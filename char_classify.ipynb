{
 "cells": [
  {
   "cell_type": "markdown",
   "metadata": {},
   "source": [
    "dataset : https://www.kaggle.com/c/street-view-getting-started-with-julia"
   ]
  },
  {
   "cell_type": "code",
   "execution_count": 335,
   "metadata": {
    "collapsed": true
   },
   "outputs": [],
   "source": [
    "import os\n",
    "import csv\n",
    "import random\n",
    "import numpy as np\n",
    "import matplotlib.pyplot as plt\n",
    "\n",
    "from sklearn import svm\n",
    "from sklearn import ensemble\n",
    "from sklearn import preprocessing\n",
    "from sklearn import model_selection\n",
    "from sklearn import metrics\n",
    "\n",
    "from skimage import io\n",
    "from skimage import color\n",
    "from skimage import feature\n",
    "from skimage import transform\n",
    "%matplotlib inline"
   ]
  },
  {
   "cell_type": "code",
   "execution_count": 336,
   "metadata": {
    "collapsed": true
   },
   "outputs": [],
   "source": [
    "#labels csv\n",
    "labels_ = [] # first line is dirty\n",
    "with open('./trainLabels.csv') as csvfile:\n",
    "    reader = csv.reader(csvfile)\n",
    "    for row in reader:\n",
    "        labels_.append(row[1])\n"
   ]
  },
  {
   "cell_type": "code",
   "execution_count": 337,
   "metadata": {},
   "outputs": [
    {
     "name": "stdout",
     "output_type": "stream",
     "text": [
      "(6283, 20, 20) (6283,)\n"
     ]
    }
   ],
   "source": [
    "#loading the dataset\n",
    "images = []\n",
    "labels = []\n",
    "SAMPLE_DIR = './trainResized'\n",
    "for i, label in enumerate(labels_):\n",
    "    if i == 0 : continue\n",
    "    labels.append(label)\n",
    "    im = io.imread('{}/{}.Bmp'.format(SAMPLE_DIR, i))\n",
    "    gray = color.rgb2gray(im)\n",
    "    ############edges = feature.canny(gray)\n",
    "    images.append(gray)\n",
    "\n",
    "images = np.array(images)\n",
    "labels = np.array(labels)\n",
    "\n",
    "print (images.shape, labels.shape)"
   ]
  },
  {
   "cell_type": "code",
   "execution_count": 338,
   "metadata": {},
   "outputs": [
    {
     "name": "stdout",
     "output_type": "stream",
     "text": [
      "(1576, 20, 20) (1576,)\n",
      "{'B': 90, 'A': 459, '2': 59, '4': 37, 'E': 357, 'Y': 54, 'X': 43, '5': 41, 'D': 165, '1': 65, 'C': 170, '3': 36}\n"
     ]
    }
   ],
   "source": [
    "# filtering the set\n",
    "# this is optional!\n",
    "letters = ['A', 'B', 'C', 'D', 'E','X', 'Y', '1', '2','3', '4', '5']\n",
    "\n",
    "mask = (labels == letters[0])\n",
    "for i in range(len(letters)-1):\n",
    "    mask = mask | (labels == letters[i+1])\n",
    "\n",
    "images = images[mask]\n",
    "labels = labels[mask]\n",
    "print (images.shape, labels.shape)\n",
    "\n",
    "#label stats\n",
    "def label_stats(labels, letters):\n",
    "    stats = {}\n",
    "    for letter in letters:\n",
    "        stats[letter] = len(labels[labels == letter])\n",
    "    return stats\n",
    "\n",
    "print (label_stats(labels, letters))"
   ]
  },
  {
   "cell_type": "code",
   "execution_count": 339,
   "metadata": {},
   "outputs": [
    {
     "name": "stdout",
     "output_type": "stream",
     "text": [
      "Max:  459\n",
      "label  A 0\n",
      "label  B 369\n",
      "label  C 289\n",
      "label  D 294\n",
      "label  E 102\n",
      "label  X 416\n",
      "label  Y 405\n",
      "label  1 394\n",
      "label  2 400\n",
      "label  3 423\n",
      "label  4 422\n",
      "label  5 418\n",
      "(5508, 20, 20) (5508,)\n",
      "{'B': 459, 'A': 459, '2': 459, '4': 459, 'E': 459, 'Y': 459, 'X': 459, '5': 459, 'D': 459, '1': 459, 'C': 459, '3': 459}\n"
     ]
    }
   ],
   "source": [
    "# generates more images the way that every sample has equal number\n",
    "def generate_and_eq_more_images(images, labels, letters):\n",
    "    \n",
    "    im_list = images.tolist()\n",
    "    labels_list = labels.tolist()\n",
    "    \n",
    "    stats = label_stats(labels, letters)\n",
    "    max_sample_size = max(stats.values()) # the maximus sample size\n",
    "    print (\"Max: \", max_sample_size )\n",
    "    for letter in letters:\n",
    "        samples_to_gen = max_sample_size - stats[letter] # number of new samples to be generated\n",
    "        sample_images = images[labels == letter] # original image sample, this is the source for the generated images\n",
    "        print(\"label \", letter, samples_to_gen)\n",
    "        for i in range(samples_to_gen): #adding generated images N times\n",
    "            random_im = sample_images[random.randint(0,len(sample_images)-1)]\n",
    "            im_list.append(gen_transform(random_im))\n",
    "            labels_list.append(letter)\n",
    "            \n",
    "    return np.array(im_list), np.array(labels_list)\n",
    "    \n",
    "def gen_transform(im):\n",
    "    new_im = transform.rotate(im, random.randint(-20, 20))\n",
    "    return new_im\n",
    "    \n",
    "    \n",
    "    \n",
    "images, labels = generate_and_eq_more_images(images, labels, letters)\n",
    "\n",
    "print (images.shape, labels.shape)\n",
    "print (label_stats(labels, letters))"
   ]
  },
  {
   "cell_type": "code",
   "execution_count": 340,
   "metadata": {},
   "outputs": [],
   "source": [
    "## the canny transform\n",
    "im_list = []\n",
    "for i in range(len(images)):\n",
    "    im_list.append(feature.canny(images[i]))\n",
    "images = np.array(im_list)"
   ]
  },
  {
   "cell_type": "code",
   "execution_count": 341,
   "metadata": {},
   "outputs": [
    {
     "name": "stdout",
     "output_type": "stream",
     "text": [
      "['1' '2' '3' '4' '5' 'A' 'B' 'C' 'D' 'E' 'X' 'Y']\n"
     ]
    }
   ],
   "source": [
    "# preprocessing\n",
    "# not needed for support vector!\n",
    "ENCODER = preprocessing.LabelBinarizer()\n",
    "ENCODER.fit(labels)\n",
    "print(ENCODER.classes_)\n",
    "\n",
    "##############labels = ENCODER.transform(labels)\n",
    "\n"
   ]
  },
  {
   "cell_type": "code",
   "execution_count": 342,
   "metadata": {},
   "outputs": [
    {
     "name": "stdout",
     "output_type": "stream",
     "text": [
      "E\n"
     ]
    },
    {
     "data": {
      "text/plain": [
       "<matplotlib.image.AxesImage at 0x11f4f7ef0>"
      ]
     },
     "execution_count": 342,
     "metadata": {},
     "output_type": "execute_result"
    },
    {
     "data": {
      "image/png": "[encoded data removed]",
      "text/plain": [
       "<matplotlib.figure.Figure at 0x1210413c8>"
      ]
     },
     "metadata": {},
     "output_type": "display_data"
    }
   ],
   "source": [
    "N = 111\n",
    "print(labels[N])\n",
    "i = images[N]\n",
    "\n",
    "plt.imshow(i)\n",
    "\n"
   ]
  },
  {
   "cell_type": "code",
   "execution_count": 343,
   "metadata": {},
   "outputs": [
    {
     "data": {
      "image/png": "[encoded data removed]",
      "text/plain": [
       "<matplotlib.figure.Figure at 0x11f5096d8>"
      ]
     },
     "metadata": {},
     "output_type": "display_data"
    }
   ],
   "source": [
    "plt.figure(figsize=(8,8))\n",
    "N = 5\n",
    "for i in range(N * N):\n",
    "    plt.subplot(N, N, i+1)\n",
    "    plt.imshow(images[random.randint(0, len(images)-1)])"
   ]
  },
  {
   "cell_type": "code",
   "execution_count": 344,
   "metadata": {},
   "outputs": [
    {
     "name": "stdout",
     "output_type": "stream",
     "text": [
      "(3690, 400) (1818, 400) (3690,) (1818,)\n"
     ]
    }
   ],
   "source": [
    "data_x = images.reshape(images.shape[0],-1)\n",
    "x_train, x_test, y_train, y_test = model_selection.train_test_split(data_x, labels, test_size=0.33, random_state=44)\n",
    "print(x_train.shape, x_test.shape, y_train.shape, y_test.shape)\n"
   ]
  },
  {
   "cell_type": "code",
   "execution_count": 345,
   "metadata": {},
   "outputs": [
    {
     "data": {
      "text/plain": [
       "0.99783197831978321"
      ]
     },
     "execution_count": 345,
     "metadata": {},
     "output_type": "execute_result"
    }
   ],
   "source": [
    "#clf = svm.SVC()\n",
    "clf = ensemble.RandomForestClassifier()\n",
    "\n",
    "clf.fit(x_train, y_train)\n",
    "clf.score(x_train, y_train)"
   ]
  },
  {
   "cell_type": "code",
   "execution_count": 346,
   "metadata": {},
   "outputs": [
    {
     "name": "stdout",
     "output_type": "stream",
     "text": [
      "0.73102310231\n"
     ]
    }
   ],
   "source": [
    "pred = clf.predict(x_test)\n",
    "score = metrics.accuracy_score(y_test, pred)\n",
    "print (score)"
   ]
  },
  {
   "cell_type": "code",
   "execution_count": 347,
   "metadata": {},
   "outputs": [
    {
     "name": "stdout",
     "output_type": "stream",
     "text": [
      "[[ 87   6   2   8   4   1   1  17  15   6  14   1]\n",
      " [  8 107   2   0  15   0   2   6   3   2   3   4]\n",
      " [  5   2 105  10   1   2   0  14   6   4   6   1]\n",
      " [  9   7  10  87   0   2   3   5   4   5   2   3]\n",
      " [  8  15   4   4  78   4   2   9   9   4   3  12]\n",
      " [  8   5   3   4   3 114   5   9   7   2   2   5]\n",
      " [  0   1   2   3   1   5 107   4   6   0   1   3]\n",
      " [  2   3   3   7   1   2   2 114   7   4   1   1]\n",
      " [  2   0   2   0   1   0   3   7 120   4   3   4]\n",
      " [  1   1   0   1   0   0   0   2   6 139   0   2]\n",
      " [  3   1   1   1   1   0   0   3   1   2 138   0]\n",
      " [  2   9   0   1   3   0   0   5   4   3   3 133]]\n"
     ]
    },
    {
     "data": {
      "text/plain": [
       "<matplotlib.image.AxesImage at 0x11b72aa20>"
      ]
     },
     "execution_count": 347,
     "metadata": {},
     "output_type": "execute_result"
    },
    {
     "data": {
      "image/png": "[encoded data removed]",
      "text/plain": [
       "<matplotlib.figure.Figure at 0x11b70eeb8>"
      ]
     },
     "metadata": {},
     "output_type": "display_data"
    }
   ],
   "source": [
    "cm = metrics.confusion_matrix(y_test, pred, labels=letters)\n",
    "print(cm)\n",
    "cm = cm / cm.sum(axis=1)\n",
    "plt.xticks(np.arange(len(letters)), letters)\n",
    "plt.yticks(np.arange(len(letters)), letters)\n",
    "plt.imshow(cm, cmap = plt.cm.Reds)"
   ]
  },
  {
   "cell_type": "code",
   "execution_count": null,
   "metadata": {
    "collapsed": true
   },
   "outputs": [],
   "source": []
  }
 ],
 "metadata": {
  "kernelspec": {
   "display_name": "Python 3",
   "language": "python",
   "name": "python3"
  },
  "language_info": {
   "codemirror_mode": {
    "name": "ipython",
    "version": 3
   },
   "file_extension": ".py",
   "mimetype": "text/x-python",
   "name": "python",
   "nbconvert_exporter": "python",
   "pygments_lexer": "ipython3",
   "version": "3.5.2"
  },
  "widgets": {
   "state": {},
   "version": "1.1.2"
  }
 },
 "nbformat": 4,
 "nbformat_minor": 2
}
